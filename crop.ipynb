{
 "cells": [
  {
   "cell_type": "code",
   "execution_count": null,
   "metadata": {},
   "outputs": [],
   "source": [
    "\n",
    "img_dir = '로컬에 이미지 저장된 폴더'\n",
    "roi_dir = 'roi 저장된 폴더..'\n",
    "\n",
    "img_file_paths = glob.glob(os.path.join(, '**/*.jpg'))   # 이미지 파일 경로 다 뽑아옴\n",
    "roi_file_paths = glob.glob(os.path.join(, '**/*.txt'))\n",
    "\n",
    "\n",
    "# 파일명만 추출 (ex. 확장자 없이 '00425493_201008_GI_CA_LBLC_0000'만)\n",
    "file_names = []\n",
    "for i in range(len(file_paths)):\n",
    "     file_names += os.path.splitext(os.path.split(file_paths[i])[1])[0] + '\\n'\n"
   ]
  },
  {
   "cell_type": "markdown",
   "metadata": {},
   "source": [
    "- 아래 소스는 pillow 라이브러리 설치\n",
    ">pip install pillow"
   ]
  },
  {
   "cell_type": "code",
   "execution_count": null,
   "metadata": {},
   "outputs": [],
   "source": [
    "# 이미지 읽기\n",
    "from PIL import Image\n",
    "img = Image.open(file_names[인덱스명]+'.jpg')\n",
    "\n",
    "# 다음처럼 곧바로 이미지 가로 세로 길이 추출 가능\n",
    "img.width\n",
    "img.height"
   ]
  },
  {
   "cell_type": "code",
   "execution_count": null,
   "metadata": {},
   "outputs": [],
   "source": [
    "# roi 읽기\n",
    "roi_file = open(roi_file_paths[인덱스명]+'.txt')\n",
    "rois += [line.split() for line in roi_file.readlines()]     # [ [label, x, y, w, h], ... ]\n",
    "rois = np.array(rois, dtype=np.float32)"
   ]
  },
  {
   "cell_type": "code",
   "execution_count": null,
   "metadata": {},
   "outputs": [],
   "source": [
    "# roi 사용 예시\n",
    "left = roi[1] * img.width     # left 좌표 원본 크기로 복구\n",
    "top = roi[2] * img.height    # top 좌표 복구\n",
    "width = roi[3] * img.width     # width 복구\n",
    "height = roi[4] * img.height    # height 복구"
   ]
  }
 ],
 "metadata": {
  "kernelspec": {
   "display_name": "Python 3.7.13 ('frcnn2')",
   "language": "python",
   "name": "python3"
  },
  "language_info": {
   "name": "python",
   "version": "3.7.13"
  },
  "orig_nbformat": 4,
  "vscode": {
   "interpreter": {
    "hash": "a8868ec420d219f71da46a2229745ea1afae2acc8b2c8b3a2249d473f573cd91"
   }
  }
 },
 "nbformat": 4,
 "nbformat_minor": 2
}
